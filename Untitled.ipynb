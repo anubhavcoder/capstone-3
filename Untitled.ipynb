{
 "cells": [
  {
   "cell_type": "code",
   "execution_count": 2,
   "metadata": {},
   "outputs": [],
   "source": [
    "from src.card import Card\n",
    "from src.deck import Deck\n",
    "from src.lookup import LookupTable\n",
    "from src.evaluator import Evaluator"
   ]
  },
  {
   "cell_type": "code",
   "execution_count": null,
   "metadata": {},
   "outputs": [],
   "source": [
    "# Create a card deck\n",
    "test = Deck()"
   ]
  },
  {
   "cell_type": "code",
   "execution_count": null,
   "metadata": {},
   "outputs": [],
   "source": [
    "# Draw two cards for player's hand\n",
    "Card.print_pretty_cards(test.draw(n=2))"
   ]
  },
  {
   "cell_type": "code",
   "execution_count": null,
   "metadata": {},
   "outputs": [],
   "source": [
    "# Evaluate pre-flop hand strength"
   ]
  },
  {
   "cell_type": "markdown",
   "metadata": {},
   "source": [
    "#### Below is step-by-step from the repo"
   ]
  },
  {
   "cell_type": "code",
   "execution_count": 3,
   "metadata": {},
   "outputs": [],
   "source": [
    "# create a card\n",
    "card = Card.new('Qh')"
   ]
  },
  {
   "cell_type": "code",
   "execution_count": 4,
   "metadata": {},
   "outputs": [],
   "source": [
    "# create a board and hole cards\n",
    "board = [\n",
    "    Card.new('2h'),\n",
    "    Card.new('2s'),\n",
    "    Card.new('Jc')\n",
    "]\n",
    "hand = [\n",
    "    Card.new('Qs'),\n",
    "    Card.new('Th')\n",
    "]"
   ]
  },
  {
   "cell_type": "code",
   "execution_count": 7,
   "metadata": {},
   "outputs": [
    {
     "name": "stdout",
     "output_type": "stream",
     "text": [
      "Flop: \n",
      "[('2', 'h'), ('2', 's'), ('J', 'c')]\n",
      "None\n",
      "Hand: \n",
      "[('Q', 's'), ('T', 'h')]\n",
      "None\n"
     ]
    }
   ],
   "source": [
    "# pretty print cards to console\n",
    "print('Flop: ')\n",
    "print(Card.print_pretty_cards(board))\n",
    "print('Hand: ')\n",
    "print(Card.print_pretty_cards(hand))"
   ]
  },
  {
   "cell_type": "code",
   "execution_count": 8,
   "metadata": {},
   "outputs": [],
   "source": [
    "# create an evaluator\n",
    "evaluator = Evaluator()"
   ]
  },
  {
   "cell_type": "code",
   "execution_count": 9,
   "metadata": {},
   "outputs": [
    {
     "name": "stdout",
     "output_type": "stream",
     "text": [
      "Rank for your hand is: 6066\n"
     ]
    }
   ],
   "source": [
    "# and rank your hand\n",
    "rank = evaluator.evaluate(board, hand)\n",
    "print(f'Rank for your hand is: {rank}')"
   ]
  },
  {
   "cell_type": "code",
   "execution_count": 11,
   "metadata": {},
   "outputs": [
    {
     "name": "stdout",
     "output_type": "stream",
     "text": [
      "Dealing a new hand...\n"
     ]
    }
   ],
   "source": [
    "# or for random cards or games, create a deck\n",
    "print(\"Dealing a new hand...\")\n",
    "deck = Deck()\n",
    "board = deck.draw(5)\n",
    "player1_hand = deck.draw(2)\n",
    "player2_hand = deck.draw(2)"
   ]
  },
  {
   "cell_type": "code",
   "execution_count": 12,
   "metadata": {},
   "outputs": [
    {
     "name": "stdout",
     "output_type": "stream",
     "text": [
      "The board:\n",
      "[('6', 'c'), ('T', 'h'), ('Q', 'h'), ('3', 'c'), ('J', 'h')]\n"
     ]
    }
   ],
   "source": [
    "print(\"The board:\")\n",
    "Card.print_pretty_cards(board)"
   ]
  },
  {
   "cell_type": "code",
   "execution_count": 13,
   "metadata": {},
   "outputs": [
    {
     "name": "stdout",
     "output_type": "stream",
     "text": [
      "Player 1's cards:\n",
      "[('3', 's'), ('2', 'h')]\n"
     ]
    }
   ],
   "source": [
    "print(\"Player 1's cards:\")\n",
    "Card.print_pretty_cards(player1_hand)"
   ]
  },
  {
   "cell_type": "code",
   "execution_count": 14,
   "metadata": {},
   "outputs": [
    {
     "name": "stdout",
     "output_type": "stream",
     "text": [
      "Player 2's cards:\n",
      "[('J', 's'), ('7', 'd')]\n"
     ]
    }
   ],
   "source": [
    "print(\"Player 2's cards:\")\n",
    "Card.print_pretty_cards(player2_hand)"
   ]
  },
  {
   "cell_type": "code",
   "execution_count": 15,
   "metadata": {},
   "outputs": [],
   "source": [
    "p1_score = evaluator.evaluate(board, player1_hand)\n",
    "p2_score = evaluator.evaluate(board, player2_hand)"
   ]
  },
  {
   "cell_type": "code",
   "execution_count": 16,
   "metadata": {},
   "outputs": [],
   "source": [
    "# bin the scores into classes\n",
    "p1_class = evaluator.get_rank_class(p1_score)\n",
    "p2_class = evaluator.get_rank_class(p2_score)"
   ]
  },
  {
   "cell_type": "code",
   "execution_count": 17,
   "metadata": {},
   "outputs": [
    {
     "name": "stdout",
     "output_type": "stream",
     "text": [
      "Player 1 hand rank = 5846 (Pair)\n",
      "Player 2 hand rank = 4088 (Pair)\n"
     ]
    }
   ],
   "source": [
    "# or get a human-friendly string to describe the score\n",
    "print(f\"Player 1 hand rank = {p1_score} ({evaluator.class_to_string(p1_class)})\")\n",
    "print(f\"Player 2 hand rank = {p2_score} ({evaluator.class_to_string(p2_class)})\")"
   ]
  },
  {
   "cell_type": "code",
   "execution_count": 18,
   "metadata": {},
   "outputs": [
    {
     "name": "stdout",
     "output_type": "stream",
     "text": [
      "========== FLOP ==========\n",
      "Player 1 hand = High Card, percentage rank among all hands = 0.042884\n",
      "Player 2 hand = High Card, percentage rank among all hands = 0.059233\n",
      "Player 2 hand is currently winning.\n",
      "\n",
      "========== TURN ==========\n",
      "Player 1 hand = Pair, percentage rank among all hands = 0.215090\n",
      "Player 2 hand = High Card, percentage rank among all hands = 0.059233\n",
      "Player 1 hand is currently winning.\n",
      "\n",
      "========== RIVER ==========\n",
      "Player 1 hand = Pair, percentage rank among all hands = 0.216564\n",
      "Player 2 hand = Pair, percentage rank among all hands = 0.452158\n",
      "\n",
      "========== HAND OVER ==========\n",
      "Player 2 is the winner with a Pair\n",
      "\n"
     ]
    }
   ],
   "source": [
    "# or just a summary of the entire hand\n",
    "hands = [player1_hand, player2_hand]\n",
    "evaluator.hand_summary(board, hands)"
   ]
  },
  {
   "cell_type": "markdown",
   "metadata": {},
   "source": [
    "#### **Next Steps:**\n",
    "* Thresholds for fold, check, raise\n",
    "* 1v1 game sim keeping stats of what happened, (maybe what should've happened if hand played out?)\n",
    "* Sim: start with all cards on the board and make a play\n",
    "* Later: make moves for each turn (need to update evaluator.hand_summary)"
   ]
  },
  {
   "cell_type": "code",
   "execution_count": null,
   "metadata": {},
   "outputs": [],
   "source": []
  }
 ],
 "metadata": {
  "kernelspec": {
   "display_name": "Python 3",
   "language": "python",
   "name": "python3"
  },
  "language_info": {
   "codemirror_mode": {
    "name": "ipython",
    "version": 3
   },
   "file_extension": ".py",
   "mimetype": "text/x-python",
   "name": "python",
   "nbconvert_exporter": "python",
   "pygments_lexer": "ipython3",
   "version": "3.7.6"
  }
 },
 "nbformat": 4,
 "nbformat_minor": 4
}
