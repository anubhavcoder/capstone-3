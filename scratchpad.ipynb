{
 "cells": [
  {
   "cell_type": "code",
   "execution_count": 1,
   "metadata": {},
   "outputs": [
    {
     "name": "stderr",
     "output_type": "stream",
     "text": [
      "/opt/anaconda3/lib/python3.7/site-packages/tensorflow/python/framework/dtypes.py:516: FutureWarning: Passing (type, 1) or '1type' as a synonym of type is deprecated; in a future version of numpy, it will be understood as (type, (1,)) / '(1,)type'.\n",
      "  _np_qint8 = np.dtype([(\"qint8\", np.int8, 1)])\n",
      "/opt/anaconda3/lib/python3.7/site-packages/tensorflow/python/framework/dtypes.py:517: FutureWarning: Passing (type, 1) or '1type' as a synonym of type is deprecated; in a future version of numpy, it will be understood as (type, (1,)) / '(1,)type'.\n",
      "  _np_quint8 = np.dtype([(\"quint8\", np.uint8, 1)])\n",
      "/opt/anaconda3/lib/python3.7/site-packages/tensorflow/python/framework/dtypes.py:518: FutureWarning: Passing (type, 1) or '1type' as a synonym of type is deprecated; in a future version of numpy, it will be understood as (type, (1,)) / '(1,)type'.\n",
      "  _np_qint16 = np.dtype([(\"qint16\", np.int16, 1)])\n",
      "/opt/anaconda3/lib/python3.7/site-packages/tensorflow/python/framework/dtypes.py:519: FutureWarning: Passing (type, 1) or '1type' as a synonym of type is deprecated; in a future version of numpy, it will be understood as (type, (1,)) / '(1,)type'.\n",
      "  _np_quint16 = np.dtype([(\"quint16\", np.uint16, 1)])\n",
      "/opt/anaconda3/lib/python3.7/site-packages/tensorflow/python/framework/dtypes.py:520: FutureWarning: Passing (type, 1) or '1type' as a synonym of type is deprecated; in a future version of numpy, it will be understood as (type, (1,)) / '(1,)type'.\n",
      "  _np_qint32 = np.dtype([(\"qint32\", np.int32, 1)])\n",
      "/opt/anaconda3/lib/python3.7/site-packages/tensorflow/python/framework/dtypes.py:525: FutureWarning: Passing (type, 1) or '1type' as a synonym of type is deprecated; in a future version of numpy, it will be understood as (type, (1,)) / '(1,)type'.\n",
      "  np_resource = np.dtype([(\"resource\", np.ubyte, 1)])\n"
     ]
    },
    {
     "name": "stdout",
     "output_type": "stream",
     "text": [
      "WARNING:tensorflow:From /opt/anaconda3/lib/python3.7/site-packages/tensorflow/python/compat/v2_compat.py:61: disable_resource_variables (from tensorflow.python.ops.variable_scope) is deprecated and will be removed in a future version.\n",
      "Instructions for updating:\n",
      "non-resource variables are not supported in the long term\n"
     ]
    },
    {
     "name": "stderr",
     "output_type": "stream",
     "text": [
      "/opt/anaconda3/lib/python3.7/site-packages/tensorboard/compat/tensorflow_stub/dtypes.py:541: FutureWarning: Passing (type, 1) or '1type' as a synonym of type is deprecated; in a future version of numpy, it will be understood as (type, (1,)) / '(1,)type'.\n",
      "  _np_qint8 = np.dtype([(\"qint8\", np.int8, 1)])\n",
      "/opt/anaconda3/lib/python3.7/site-packages/tensorboard/compat/tensorflow_stub/dtypes.py:542: FutureWarning: Passing (type, 1) or '1type' as a synonym of type is deprecated; in a future version of numpy, it will be understood as (type, (1,)) / '(1,)type'.\n",
      "  _np_quint8 = np.dtype([(\"quint8\", np.uint8, 1)])\n",
      "/opt/anaconda3/lib/python3.7/site-packages/tensorboard/compat/tensorflow_stub/dtypes.py:543: FutureWarning: Passing (type, 1) or '1type' as a synonym of type is deprecated; in a future version of numpy, it will be understood as (type, (1,)) / '(1,)type'.\n",
      "  _np_qint16 = np.dtype([(\"qint16\", np.int16, 1)])\n",
      "/opt/anaconda3/lib/python3.7/site-packages/tensorboard/compat/tensorflow_stub/dtypes.py:544: FutureWarning: Passing (type, 1) or '1type' as a synonym of type is deprecated; in a future version of numpy, it will be understood as (type, (1,)) / '(1,)type'.\n",
      "  _np_quint16 = np.dtype([(\"quint16\", np.uint16, 1)])\n",
      "/opt/anaconda3/lib/python3.7/site-packages/tensorboard/compat/tensorflow_stub/dtypes.py:545: FutureWarning: Passing (type, 1) or '1type' as a synonym of type is deprecated; in a future version of numpy, it will be understood as (type, (1,)) / '(1,)type'.\n",
      "  _np_qint32 = np.dtype([(\"qint32\", np.int32, 1)])\n",
      "/opt/anaconda3/lib/python3.7/site-packages/tensorboard/compat/tensorflow_stub/dtypes.py:550: FutureWarning: Passing (type, 1) or '1type' as a synonym of type is deprecated; in a future version of numpy, it will be understood as (type, (1,)) / '(1,)type'.\n",
      "  np_resource = np.dtype([(\"resource\", np.ubyte, 1)])\n"
     ]
    }
   ],
   "source": [
    "from src.card import Card\n",
    "from src.deck import Deck\n",
    "from src.lookup import LookupTable\n",
    "from src.evaluator import Evaluator\n",
    "from src.player import Player\n",
    "\n",
    "import operator\n",
    "import random\n",
    "\n",
    "import numpy as np\n",
    "\n",
    "import tensorflow.compat.v1 as tf\n",
    "tf.disable_v2_behavior()"
   ]
  },
  {
   "cell_type": "code",
   "execution_count": null,
   "metadata": {},
   "outputs": [],
   "source": [
    "# Create a card deck\n",
    "test = Deck()"
   ]
  },
  {
   "cell_type": "code",
   "execution_count": null,
   "metadata": {},
   "outputs": [],
   "source": [
    "# Draw two cards for player's hand\n",
    "Card.print_pretty_cards(test.draw(n=2))"
   ]
  },
  {
   "cell_type": "code",
   "execution_count": null,
   "metadata": {},
   "outputs": [],
   "source": [
    "# Evaluate pre-flop hand strength"
   ]
  },
  {
   "cell_type": "markdown",
   "metadata": {},
   "source": [
    "#### Below is step-by-step from the repo"
   ]
  },
  {
   "cell_type": "code",
   "execution_count": null,
   "metadata": {},
   "outputs": [],
   "source": [
    "# create a card\n",
    "card = Card.new('Qh')"
   ]
  },
  {
   "cell_type": "code",
   "execution_count": null,
   "metadata": {},
   "outputs": [],
   "source": [
    "# create a board and hole cards\n",
    "board = [\n",
    "    Card.new('2h'),\n",
    "    Card.new('2s'),\n",
    "    Card.new('Jc')\n",
    "]\n",
    "hand = [\n",
    "    Card.new('Qs'),\n",
    "    Card.new('Th')\n",
    "]"
   ]
  },
  {
   "cell_type": "code",
   "execution_count": null,
   "metadata": {},
   "outputs": [],
   "source": [
    "# pretty print cards to console\n",
    "print('Flop: ')\n",
    "print(Card.print_pretty_cards(board))\n",
    "print('Hand: ')\n",
    "print(Card.print_pretty_cards(hand))"
   ]
  },
  {
   "cell_type": "code",
   "execution_count": null,
   "metadata": {},
   "outputs": [],
   "source": [
    "# create an evaluator\n",
    "evaluator = Evaluator()"
   ]
  },
  {
   "cell_type": "code",
   "execution_count": null,
   "metadata": {},
   "outputs": [],
   "source": [
    "# and rank your hand\n",
    "rank = evaluator.evaluate(board, hand)\n",
    "print(f'Rank for your hand is: {rank}')"
   ]
  },
  {
   "cell_type": "code",
   "execution_count": null,
   "metadata": {},
   "outputs": [],
   "source": [
    "# or for random cards or games, create a deck\n",
    "print(\"Dealing a new hand...\")\n",
    "deck = Deck()\n",
    "board = deck.draw(5)\n",
    "player1_hand = deck.draw(2)\n",
    "player2_hand = deck.draw(2)"
   ]
  },
  {
   "cell_type": "code",
   "execution_count": null,
   "metadata": {},
   "outputs": [],
   "source": [
    "print(\"The board:\")\n",
    "Card.print_pretty_cards(board)"
   ]
  },
  {
   "cell_type": "code",
   "execution_count": null,
   "metadata": {},
   "outputs": [],
   "source": [
    "print(\"Player 1's cards:\")\n",
    "Card.print_pretty_cards(player1_hand)"
   ]
  },
  {
   "cell_type": "code",
   "execution_count": null,
   "metadata": {},
   "outputs": [],
   "source": [
    "print(\"Player 2's cards:\")\n",
    "Card.print_pretty_cards(player2_hand)"
   ]
  },
  {
   "cell_type": "code",
   "execution_count": null,
   "metadata": {},
   "outputs": [],
   "source": [
    "p1_score = evaluator.evaluate(board, player1_hand)\n",
    "p2_score = evaluator.evaluate(board, player2_hand)"
   ]
  },
  {
   "cell_type": "code",
   "execution_count": null,
   "metadata": {},
   "outputs": [],
   "source": [
    "# bin the scores into classes\n",
    "p1_class = evaluator.get_rank_class(p1_score)\n",
    "p2_class = evaluator.get_rank_class(p2_score)"
   ]
  },
  {
   "cell_type": "code",
   "execution_count": null,
   "metadata": {},
   "outputs": [],
   "source": [
    "# or get a human-friendly string to describe the score\n",
    "print(f\"Player 1 hand rank = {p1_score} ({evaluator.class_to_string(p1_class)})\")\n",
    "print(f\"Player 2 hand rank = {p2_score} ({evaluator.class_to_string(p2_class)})\")"
   ]
  },
  {
   "cell_type": "code",
   "execution_count": null,
   "metadata": {},
   "outputs": [],
   "source": [
    "# or just a summary of the entire hand\n",
    "hands = [player1_hand, player2_hand]\n",
    "evaluator.hand_summary(board, hands)"
   ]
  },
  {
   "cell_type": "markdown",
   "metadata": {},
   "source": [
    "#### **Next Steps:**\n",
    "* Thresholds for fold, check, raise\n",
    "* 1v1 game sim keeping stats of what happened, (maybe what should've happened if hand played out?)\n",
    "* Sim: start with all cards on the board and make a play\n",
    "* Later: make moves for each turn (need to update evaluator.hand_summary)"
   ]
  },
  {
   "cell_type": "code",
   "execution_count": null,
   "metadata": {},
   "outputs": [],
   "source": [
    "#  Need pre-flop hand ranks for plays\n",
    "#  Need flop hand ranks\n",
    "#  End game"
   ]
  },
  {
   "cell_type": "code",
   "execution_count": null,
   "metadata": {},
   "outputs": [],
   "source": [
    "# Create a new deck and board (flop only)\n",
    "deck = Deck()\n",
    "board = deck.draw(3)"
   ]
  },
  {
   "cell_type": "code",
   "execution_count": null,
   "metadata": {},
   "outputs": [],
   "source": [
    "# Players 1 and 2 pre-flop hands and plays\n",
    "player1_hand = deck.draw(2)\n",
    "player2_hand = deck.draw(2)\n",
    "\n",
    "# Score the hand\n",
    "p1_score = evaluator.evaluate(board, player1_hand)\n",
    "p2_score = evaluator.evaluate(board, player2_hand)\n",
    "p1_class = evaluator.get_rank_class(p1_score)\n",
    "p2_class = evaluator.get_rank_class(p2_score)\n",
    "\n",
    "print(f\"Player 1 hand rank = {p1_score} ({evaluator.class_to_string(p1_class)})\")\n",
    "print(Card.print_pretty_cards(player1_hand))\n",
    "print(f\"Player 2 hand rank = {p2_score} ({evaluator.class_to_string(p2_class)})\")\n",
    "print(Card.print_pretty_cards(player2_hand))\n",
    "print(\"The board:\")\n",
    "Card.print_pretty_cards(board)"
   ]
  },
  {
   "cell_type": "code",
   "execution_count": null,
   "metadata": {},
   "outputs": [],
   "source": [
    "# Hand ranks 1 - 7462\n",
    "'''\n",
    "Thresholds:\n",
    "5970 - 7462: check, fold\n",
    "2985 - 5969: check, call\n",
    "1 - 2984: raise, call\n",
    "'''"
   ]
  },
  {
   "cell_type": "code",
   "execution_count": null,
   "metadata": {},
   "outputs": [],
   "source": [
    "p1_move = 'check'\n",
    "p2_move = 'check'\n",
    "\n",
    "print('First moves:')\n",
    "\n",
    "\n",
    "\n",
    "if p1_score <= 7462 and p1_score >=5970:\n",
    "    p1_move = 'check'\n",
    "    print(f'Player 1: {p1_move}')\n",
    "elif p1_score <= 5969 and p1_score >=2985:\n",
    "    p1_move = 'check'\n",
    "    print(f'Player 1: {p1_move}')\n",
    "else:\n",
    "    p1_move = 'raise'\n",
    "    print(f'Player 1: {p1_move}')\n",
    "    \n",
    "if p2_score <= 7462 and p2_score >=5970:\n",
    "    p2_move = 'check'\n",
    "    print(f'Player 2: {p2_move}')\n",
    "elif p2_score <= 5969 and p2_score >=2985:\n",
    "    p2_move = 'check'\n",
    "    print(f'Player 2: {p2_move}')   \n",
    "else:\n",
    "    p2_move = 'raise'\n",
    "    print(f'Player 2: {p2_move}')\n",
    "\n",
    "print()\n",
    "print('Second moves:')\n",
    "if p1_move != 'raise' and p2_move != 'raise':\n",
    "    print('None')\n",
    "if p1_move == 'raise' or p2_move == 'raise':\n",
    "    if p1_move == 'raise' and p2_score > 5969:\n",
    "        p2_move = 'fold'\n",
    "        print(f'Player 2: {p2_move}')\n",
    "    elif p1_move == 'raise' and (p2_score <= 5969 and p2_score >=2985):\n",
    "        p2_move = 'call'\n",
    "        print(f'Player 2: {p2_move}')\n",
    "    elif p2_move == 'raise' and p1_score > 5969:\n",
    "        p1_move = 'fold'\n",
    "        print(f'Player 1: {p1_move}')\n",
    "    elif p2_move == 'raise' and (p1_score <= 5969 and p1_score >=2985):\n",
    "        p1_move = 'call'\n",
    "        print(f'Player 1: {p1_move}')\n",
    "\n",
    "if p1_move != 'fold' and p2_move != 'fold':\n",
    "    winner = 'Player 1'\n",
    "    if p2_score < p1_score:\n",
    "        winner = 'Player 2'\n",
    "elif p1_move == 'fold':\n",
    "    winner = 'Player 2'\n",
    "else:\n",
    "    winner = 'Player 1'\n",
    "\n",
    "print()\n",
    "print(f'{winner} is the winner')"
   ]
  },
  {
   "cell_type": "markdown",
   "metadata": {},
   "source": [
    "#### *Create multiple players*"
   ]
  },
  {
   "cell_type": "code",
   "execution_count": null,
   "metadata": {},
   "outputs": [],
   "source": [
    "# Create 4 players\n",
    "# player1 = Player()\n",
    "player2 = Player('hawk')\n",
    "player3 = Player('dove')\n",
    "player4 = Player('random')"
   ]
  },
  {
   "cell_type": "code",
   "execution_count": null,
   "metadata": {},
   "outputs": [],
   "source": [
    "# Create a new deck and board (flop only)\n",
    "deck = Deck()\n",
    "board = deck.draw(3)\n",
    "\n",
    "# create an evaluator\n",
    "evaluator = Evaluator()"
   ]
  },
  {
   "cell_type": "code",
   "execution_count": null,
   "metadata": {},
   "outputs": [],
   "source": [
    "# Player hands\n",
    "player1_hand = deck.draw(2)\n",
    "player2_hand = deck.draw(2)\n",
    "player3_hand = deck.draw(2)\n",
    "player4_hand = deck.draw(2)\n",
    "\n",
    "# Score the hand\n",
    "p1_score = evaluator.evaluate(board, player1_hand)\n",
    "p2_score = evaluator.evaluate(board, player2_hand)\n",
    "p3_score = evaluator.evaluate(board, player3_hand)\n",
    "p4_score = evaluator.evaluate(board, player4_hand)\n",
    "\n",
    "p1_class = evaluator.get_rank_class(p1_score)\n",
    "p2_class = evaluator.get_rank_class(p2_score)\n",
    "p3_class = evaluator.get_rank_class(p3_score)\n",
    "p4_class = evaluator.get_rank_class(p4_score)\n",
    "\n",
    "print(f\"Player 1 hand rank = {p1_score} ({evaluator.class_to_string(p1_class)})\")\n",
    "print(Card.print_pretty_cards(player1_hand))\n",
    "print(f\"Player 2 hand rank = {p2_score} ({evaluator.class_to_string(p2_class)})\")\n",
    "print(Card.print_pretty_cards(player2_hand))\n",
    "print(f\"Player 3 hand rank = {p3_score} ({evaluator.class_to_string(p3_class)})\")\n",
    "print(Card.print_pretty_cards(player3_hand))\n",
    "print(f\"Player 4 hand rank = {p4_score} ({evaluator.class_to_string(p4_class)})\")\n",
    "print(Card.print_pretty_cards(player4_hand))\n",
    "\n",
    "print(\"The board:\")\n",
    "Card.print_pretty_cards(board)"
   ]
  },
  {
   "cell_type": "code",
   "execution_count": null,
   "metadata": {},
   "outputs": [],
   "source": [
    "p1_move = 'check'\n",
    "p2_move = 'check'\n",
    "p3_move = 'check'\n",
    "p4_move = 'check'\n",
    "d = {}\n",
    "\n",
    "print('First moves:')\n",
    "# player1.make_move(p1_score)\n",
    "print(f'Player 2 move: {player2.make_move(p2_score)}')\n",
    "d['p2'] = player2.make_move(p2_score)\n",
    "print(f'Player 3 move: {player3.make_move(p3_score)}')\n",
    "d['p3'] = player2.make_move(p3_score)\n",
    "print(f'Player 4 move: {player4.make_move(p4_score)}')\n",
    "d['p4'] = player2.make_move(p4_score)\n",
    "\n",
    "\n",
    "print()\n",
    "print('Second moves:')\n",
    "\n",
    "# p1_move2 = \n",
    "p2_move2 = player2.make_second_move(p2_score, 'p2', d)\n",
    "p3_move2 = player3.make_second_move(p3_score, 'p3', d)\n",
    "p4_move2 = player4.make_second_move(p4_score, 'p4', d)\n",
    "\n",
    "print(f\"Player 2 move: {player2.make_second_move(p2_score, 'p2', d)}\")\n",
    "print(f\"Player 3 move: {player3.make_second_move(p3_score, 'p3', d)}\")\n",
    "print(f\"Player 4 move: {player4.make_second_move(p4_score, 'p4', d)}\")\n",
    "\n",
    "print()\n",
    "# Determine winner\n",
    "moves = {'Player 1': 10000, 'Player 2': p2_score, 'Player 3': p3_score, 'Player 4': p4_score}\n",
    "\n",
    "if p2_move2 == 'fold':\n",
    "    moves['Player 2'] = 10000\n",
    "\n",
    "if p3_move2 == 'fold':\n",
    "    moves['Player 3'] = 10000\n",
    "\n",
    "if p4_move2 == 'fold':\n",
    "    moves['Player 4'] = 10000\n",
    "\n",
    "winner = min(moves.items(), key=operator.itemgetter(1))[0]\n",
    "\n",
    "tracker[winner] += 1\n",
    "\n",
    "\n",
    "\n",
    "print(f'{winner} is the winner')"
   ]
  },
  {
   "cell_type": "markdown",
   "metadata": {},
   "source": [
    "#### *Simulation*"
   ]
  },
  {
   "cell_type": "code",
   "execution_count": 2,
   "metadata": {},
   "outputs": [],
   "source": [
    "# Create 4 players\n",
    "# player1 = Player()\n",
    "player2 = Player('hawk')\n",
    "player3 = Player('dove')\n",
    "player4 = Player('random')\n",
    "\n",
    "# create an evaluator\n",
    "evaluator = Evaluator()\n",
    "\n",
    "tracker = {'Player 1': 0, 'Player 2': 0, 'Player 3': 0, 'Player 4': 0}"
   ]
  },
  {
   "cell_type": "code",
   "execution_count": 5,
   "metadata": {},
   "outputs": [],
   "source": [
    "for i in range(100):\n",
    "    \n",
    "    # Create a new deck and board (flop only)\n",
    "    deck = Deck()\n",
    "    board = deck.draw(3)\n",
    "\n",
    "    # Player hands\n",
    "#     player1_hand = deck.draw(2)\n",
    "    player2_hand = deck.draw(2)\n",
    "    player3_hand = deck.draw(2)\n",
    "    player4_hand = deck.draw(2)\n",
    "\n",
    "    # Score the hand\n",
    "#     p1_score = evaluator.evaluate(board, player1_hand)\n",
    "    p2_score = evaluator.evaluate(board, player2_hand)\n",
    "    p3_score = evaluator.evaluate(board, player3_hand)\n",
    "    p4_score = evaluator.evaluate(board, player4_hand)\n",
    "\n",
    "#     p1_class = evaluator.get_rank_class(p1_score)\n",
    "    p2_class = evaluator.get_rank_class(p2_score)\n",
    "    p3_class = evaluator.get_rank_class(p3_score)\n",
    "    p4_class = evaluator.get_rank_class(p4_score)\n",
    "\n",
    "    # print(f\"Player 1 hand rank = {p1_score} ({evaluator.class_to_string(p1_class)})\")\n",
    "    # print(Card.print_pretty_cards(player1_hand))\n",
    "    # print(f\"Player 2 hand rank = {p2_score} ({evaluator.class_to_string(p2_class)})\")\n",
    "    # print(Card.print_pretty_cards(player2_hand))\n",
    "    # print(f\"Player 3 hand rank = {p3_score} ({evaluator.class_to_string(p3_class)})\")\n",
    "    # print(Card.print_pretty_cards(player3_hand))\n",
    "    # print(f\"Player 4 hand rank = {p4_score} ({evaluator.class_to_string(p4_class)})\")\n",
    "    # print(Card.print_pretty_cards(player4_hand))\n",
    "\n",
    "    # print(\"The board:\")\n",
    "    # print(Card.print_pretty_cards(board))\n",
    "    # print()\n",
    "\n",
    "#     p1_move = 'check'\n",
    "    p2_move = 'check'\n",
    "    p3_move = 'check'\n",
    "    p4_move = 'check'\n",
    "    d = {}\n",
    "\n",
    "    # print('First moves:')\n",
    "    # player1.make_move(p1_score)\n",
    "    # print(f'Player 2 move: {player2.make_move(p2_score)}')\n",
    "    d['p2'] = player2.make_move(p2_score)\n",
    "    # print(f'Player 3 move: {player3.make_move(p3_score)}')\n",
    "    d['p3'] = player3.make_move(p3_score)\n",
    "    # print(f'Player 4 move: {player4.make_move(p4_score)}')\n",
    "    d['p4'] = player4.make_move(p4_score)\n",
    "\n",
    "    # print()\n",
    "    # print('Second moves:')\n",
    "\n",
    "    # p1_move2 = \n",
    "    p2_move2 = player2.make_second_move(p2_score, 'p2', d)\n",
    "    p3_move2 = player3.make_second_move(p3_score, 'p3', d)\n",
    "    p4_move2 = player4.make_second_move(p4_score, 'p4', d)\n",
    "\n",
    "    # print(f\"Player 2 move: {player2.make_second_move(p2_score, 'p2', d)}\")\n",
    "    # print(f\"Player 3 move: {player3.make_second_move(p3_score, 'p3', d)}\")\n",
    "    # print(f\"Player 4 move: {player4.make_second_move(p4_score, 'p4', d)}\")\n",
    "\n",
    "    # Determine winner\n",
    "    moves = {'Player 1': 10000, 'Player 2': p2_score, 'Player 3': p3_score, 'Player 4': p4_score}\n",
    "    \n",
    "#     if p1_move2 == 'fold':\n",
    "#         moves['Player 1'] = 10000\n",
    "        \n",
    "    if p2_move2 == 'fold':\n",
    "        moves['Player 2'] = 10000\n",
    "\n",
    "    if p3_move2 == 'fold':\n",
    "        moves['Player 3'] = 10000\n",
    "\n",
    "    if p4_move2 == 'fold':\n",
    "        moves['Player 4'] = 10000\n",
    "\n",
    "    winner = min(moves.items(), key=operator.itemgetter(1))[0]\n",
    "\n",
    "    tracker[winner] += 1\n",
    "\n",
    "    # print(f'{winner} is the winner')"
   ]
  },
  {
   "cell_type": "code",
   "execution_count": 6,
   "metadata": {},
   "outputs": [
    {
     "name": "stdout",
     "output_type": "stream",
     "text": [
      "{'Player 1': 0, 'Player 2': 34, 'Player 3': 32, 'Player 4': 34}\n"
     ]
    }
   ],
   "source": [
    "print(tracker)"
   ]
  },
  {
   "cell_type": "markdown",
   "metadata": {},
   "source": [
    "#### *Reinforcement learning*"
   ]
  },
  {
   "cell_type": "code",
   "execution_count": null,
   "metadata": {},
   "outputs": [],
   "source": [
    "# Create 4 players.  Player 1 will be the trained model\n",
    "player1 = Player('random')\n",
    "player2 = Player('hawk')\n",
    "player3 = Player('dove')\n",
    "player4 = Player('random')\n",
    "\n",
    "# create an evaluator\n",
    "evaluator = Evaluator()"
   ]
  },
  {
   "cell_type": "code",
   "execution_count": null,
   "metadata": {},
   "outputs": [],
   "source": [
    "tracker = {'Player 1': 0, 'Player 2': 0, 'Player 3': 0, 'Player 4': 0}\n",
    "\n",
    "for i in range(100):\n",
    "    \n",
    "    # Create a new deck and board (flop only)\n",
    "    deck = Deck()\n",
    "    board = deck.draw(3)\n",
    "\n",
    "    # Player hands\n",
    "    player1_hand = deck.draw(2)\n",
    "    player2_hand = deck.draw(2)\n",
    "    player3_hand = deck.draw(2)\n",
    "    player4_hand = deck.draw(2)\n",
    "\n",
    "    # Score the hand\n",
    "    p1_score = evaluator.evaluate(board, player1_hand)\n",
    "    p2_score = evaluator.evaluate(board, player2_hand)\n",
    "    p3_score = evaluator.evaluate(board, player3_hand)\n",
    "    p4_score = evaluator.evaluate(board, player4_hand)\n",
    "\n",
    "    p1_class = evaluator.get_rank_class(p1_score)\n",
    "    p2_class = evaluator.get_rank_class(p2_score)\n",
    "    p3_class = evaluator.get_rank_class(p3_score)\n",
    "    p4_class = evaluator.get_rank_class(p4_score)\n",
    "\n",
    "    # Begin making moves and track them in a dictionary\n",
    "    p1_move = 'check'\n",
    "    p2_move = 'check'\n",
    "    p3_move = 'check'\n",
    "    p4_move = 'check'\n",
    "    d = {}\n",
    "\n",
    "    d['p1'] = player1.make_move(p1_score)\n",
    "    d['p2'] = player2.make_move(p2_score)\n",
    "    d['p3'] = player2.make_move(p3_score)\n",
    "    d['p4'] = player2.make_move(p4_score)\n",
    "\n",
    "    # Make second moves\n",
    "    p1_move2 = player1.make_second_move(p1_score, 'p1', d)\n",
    "    p2_move2 = player2.make_second_move(p2_score, 'p2', d)\n",
    "    p3_move2 = player3.make_second_move(p3_score, 'p3', d)\n",
    "    p4_move2 = player4.make_second_move(p4_score, 'p4', d)\n",
    "\n",
    "    # Determine winner\n",
    "    moves = {'Player 1': p1_score, 'Player 2': p2_score, 'Player 3': p3_score, 'Player 4': p4_score}\n",
    "\n",
    "    if p1_move2 == 'fold':\n",
    "        moves['Player 1'] = 10000\n",
    "    \n",
    "    if p2_move2 == 'fold':\n",
    "        moves['Player 2'] = 10000\n",
    "\n",
    "    if p3_move2 == 'fold':\n",
    "        moves['Player 3'] = 10000\n",
    "\n",
    "    if p4_move2 == 'fold':\n",
    "        moves['Player 4'] = 10000\n",
    "\n",
    "    winner = min(moves.items(), key=operator.itemgetter(1))[0]\n",
    "\n",
    "    tracker[winner] += 1"
   ]
  },
  {
   "cell_type": "code",
   "execution_count": null,
   "metadata": {},
   "outputs": [],
   "source": [
    "print(tracker)"
   ]
  },
  {
   "cell_type": "code",
   "execution_count": null,
   "metadata": {},
   "outputs": [],
   "source": [
    "# Create a state vector with initial moves\n",
    "state1 = [player1.make_move(p1_score), p1_score, \n",
    "          player2.make_move(p2_score), \n",
    "          player3.make_move(p3_score), \n",
    "          player4.make_move(p4_score)]\n",
    "\n",
    "# player 1 responds\n",
    "bandits = ['check', 'fold']\n",
    "p1_move2 = random.choice(bandits)\n",
    "state2 = [p1_move2, p1_score, # < This is where the bandit move needs to go\n",
    "          player2.make_second_move(p2_score, 'p2', d),\n",
    "          player3.make_second_move(p3_score, 'p3', d),\n",
    "          player4.make_second_move(p4_score, 'p4', d)]\n",
    "\n",
    "# determine winner for reward\n",
    "moves = {'Player 1': p1_score, 'Player 2': p2_score, 'Player 3': p3_score, 'Player 4': p4_score}\n",
    "\n",
    "if p1_move2 == 'fold':\n",
    "    moves['Player 1'] = 10000   \n",
    "if p2_move2 == 'fold':\n",
    "    moves['Player 2'] = 10000\n",
    "if p3_move2 == 'fold':\n",
    "    moves['Player 3'] = 10000\n",
    "if p4_move2 == 'fold':\n",
    "    moves['Player 4'] = 10000\n",
    "\n",
    "winner = min(moves.items(), key=operator.itemgetter(1))[0]\n",
    "\n",
    "# reward\n",
    "if winner == 'Player 1':\n",
    "    reward += 1\n",
    "else:\n",
    "    reward -= 1"
   ]
  },
  {
   "cell_type": "code",
   "execution_count": 2,
   "metadata": {},
   "outputs": [],
   "source": [
    "bandits = ['check', 'fold']\n",
    "num_bandits = len(bandits)\n",
    "\n",
    "def pullBandit(bandit):\n",
    "    # Create a new deck and board (flop only)\n",
    "    deck = Deck()\n",
    "    board = deck.draw(3)\n",
    "    \n",
    "    # Player hands\n",
    "    player1_hand = deck.draw(2)\n",
    "    player2_hand = deck.draw(2)\n",
    "    player3_hand = deck.draw(2)\n",
    "    player4_hand = deck.draw(2)\n",
    "\n",
    "    # Score the hand\n",
    "    p1_score = evaluator.evaluate(board, player1_hand)\n",
    "    p2_score = evaluator.evaluate(board, player2_hand)\n",
    "    p3_score = evaluator.evaluate(board, player3_hand)\n",
    "    p4_score = evaluator.evaluate(board, player4_hand)\n",
    "\n",
    "    p1_class = evaluator.get_rank_class(p1_score)\n",
    "    p2_class = evaluator.get_rank_class(p2_score)\n",
    "    p3_class = evaluator.get_rank_class(p3_score)\n",
    "    p4_class = evaluator.get_rank_class(p4_score)\n",
    "\n",
    "    # Begin making moves and track them in a dictionary\n",
    "    p1_move = 'check'\n",
    "    p2_move = 'check'\n",
    "    p3_move = 'check'\n",
    "    p4_move = 'check'\n",
    "    d = {}\n",
    "    d['p1'] = player1.make_move(p1_score)\n",
    "    d['p2'] = player2.make_move(p2_score)\n",
    "    d['p3'] = player2.make_move(p3_score)\n",
    "    d['p4'] = player2.make_move(p4_score)\n",
    "    \n",
    "    # Second moves\n",
    "    p1_move2 = random.choice(bandits)  # Random choice 'check' (call) or fold\n",
    "    hand_scores = {'Player 1': p1_score, 'Player 2': p2_score, 'Player 3': p3_score, 'Player 4': p4_score}\n",
    "    \n",
    "    # Make second moves\n",
    "    p2_move2 = player2.make_second_move(p2_score, 'p2', d)\n",
    "    p3_move2 = player3.make_second_move(p3_score, 'p3', d)\n",
    "    p4_move2 = player4.make_second_move(p4_score, 'p4', d)\n",
    "    \n",
    "    # Determine winner\n",
    "    moves = {'Player 1': p1_score, 'Player 2': p2_score, 'Player 3': p3_score, 'Player 4': p4_score}\n",
    "    if p1_move2 == 'fold':\n",
    "        moves['Player 1'] = 10000\n",
    "    if p2_move2 == 'fold':\n",
    "        moves['Player 2'] = 10000\n",
    "    if p3_move2 == 'fold':\n",
    "        moves['Player 3'] = 10000\n",
    "    if p4_move2 == 'fold':\n",
    "        moves['Player 4'] = 10000\n",
    "\n",
    "    winner = min(moves.items(), key=operator.itemgetter(1))[0]\n",
    "    \n",
    "    if winner == 'Player 1':\n",
    "        #return a positive reward.\n",
    "        return 1\n",
    "    else:\n",
    "        #return a negative reward.\n",
    "        return -1"
   ]
  },
  {
   "cell_type": "markdown",
   "metadata": {},
   "source": [
    "#### **ENVIRONMENT**"
   ]
  },
  {
   "cell_type": "code",
   "execution_count": 45,
   "metadata": {},
   "outputs": [],
   "source": [
    "# Create players\n",
    "# player1 = Player() # <- train this one\n",
    "player2 = Player('dove')\n",
    "\n",
    "# Create a new deck and board (flop only)\n",
    "\n",
    "\n",
    "# create an evaluator\n",
    "evaluator = Evaluator()"
   ]
  },
  {
   "cell_type": "markdown",
   "metadata": {},
   "source": [
    "#### **STATE**"
   ]
  },
  {
   "cell_type": "code",
   "execution_count": null,
   "metadata": {},
   "outputs": [],
   "source": [
    "# Hands and flop\n",
    "\n",
    "# board = deck.draw(3)\n",
    "# player1_hand = deck.draw(2)\n",
    "# player2_hand = deck.draw(2)\n",
    "\n",
    "# Score the hand\n",
    "\n",
    "# p1_score = evaluator.evaluate(board, player1_hand)\n",
    "# p2_score = evaluator.evaluate(board, player2_hand)\n",
    "\n",
    "# Other player's move\n",
    "\n",
    "# p2_move = player2.make_move(p2_score)"
   ]
  },
  {
   "cell_type": "markdown",
   "metadata": {},
   "source": [
    "#### **ACTION**"
   ]
  },
  {
   "cell_type": "code",
   "execution_count": 46,
   "metadata": {},
   "outputs": [],
   "source": [
    "# Action that needs to be learned based on the state\n",
    "bandits = ['check', 'fold']"
   ]
  },
  {
   "cell_type": "markdown",
   "metadata": {},
   "source": [
    "#### **REWARD**"
   ]
  },
  {
   "cell_type": "code",
   "execution_count": 47,
   "metadata": {},
   "outputs": [],
   "source": [
    "# Determine winner\n",
    "def determine_winner(action):\n",
    "    # State\n",
    "    deck = Deck()\n",
    "    board = deck.draw(3)\n",
    "    player1_hand = deck.draw(2)\n",
    "    player2_hand = deck.draw(2)\n",
    "\n",
    "    # Score the hand\n",
    "    p1_score = evaluator.evaluate(board, player1_hand)\n",
    "    p2_score = evaluator.evaluate(board, player2_hand)\n",
    "\n",
    "    # Other player's move\n",
    "    p2_move = player2.make_move(p2_score)\n",
    "    \n",
    "    scores = {'Player 1': p1_score, 'Player 2': p2_score}\n",
    "    if action == 'fold':\n",
    "        scores['Player 1'] = 10000\n",
    "    if p2_move == 'fold':\n",
    "        scores['Player 2'] = 10000\n",
    "\n",
    "    winner = min(scores.items(), key=operator.itemgetter(1))[0]\n",
    "    \n",
    "    if winner == 'Player 1':\n",
    "        return 1\n",
    "    else:\n",
    "        return -1"
   ]
  },
  {
   "cell_type": "code",
   "execution_count": 48,
   "metadata": {},
   "outputs": [],
   "source": [
    "tf.compat.v1.reset_default_graph()\n",
    "tf.compat.v1.disable_eager_execution()\n",
    "\n",
    "#These two lines established the feed-forward part of the network. This does the actual choosing.\n",
    "weights = tf.Variable(tf.ones([num_bandits]))\n",
    "chosen_action = tf.argmax(weights,0)\n",
    "\n",
    "#The next six lines establish the training proceedure. We feed the reward and chosen action into the network\n",
    "#to compute the loss, and use it to update the network.\n",
    "reward_holder = tf.compat.v1.placeholder(shape=[1],dtype=tf.float32)\n",
    "action_holder = tf.compat.v1.placeholder(shape=[1],dtype=tf.int32)\n",
    "responsible_weight = tf.slice(weights,action_holder,[1])\n",
    "loss = -(tf.math.log(responsible_weight)*reward_holder)\n",
    "optimizer = tf.train.GradientDescentOptimizer(learning_rate=0.001)\n",
    "update = optimizer.minimize(loss)"
   ]
  },
  {
   "cell_type": "code",
   "execution_count": 49,
   "metadata": {},
   "outputs": [
    {
     "name": "stdout",
     "output_type": "stream",
     "text": [
      "Running reward for the 2 bandits: [ 0. -1.]\n",
      "Running reward for the 2 bandits: [  4. -17.]\n",
      "Running reward for the 2 bandits: [ 12. -33.]\n",
      "Running reward for the 2 bandits: [  8. -45.]\n",
      "Running reward for the 2 bandits: [ 13. -62.]\n",
      "Running reward for the 2 bandits: [  8. -71.]\n",
      "Running reward for the 2 bandits: [ 14. -87.]\n",
      "Running reward for the 2 bandits: [  11. -102.]\n",
      "Running reward for the 2 bandits: [  20. -111.]\n",
      "Running reward for the 2 bandits: [  13. -126.]\n",
      "Running reward for the 2 bandits: [  16. -137.]\n",
      "Running reward for the 2 bandits: [  18. -151.]\n",
      "Running reward for the 2 bandits: [  22. -169.]\n",
      "Running reward for the 2 bandits: [  17. -182.]\n",
      "Running reward for the 2 bandits: [  10. -197.]\n",
      "Running reward for the 2 bandits: [  13. -206.]\n",
      "Running reward for the 2 bandits: [  10. -219.]\n",
      "Running reward for the 2 bandits: [  11. -230.]\n",
      "Running reward for the 2 bandits: [  15. -246.]\n",
      "Running reward for the 2 bandits: [  12. -257.]\n",
      "-6\n",
      "The agent thinks bandit 1 is the most promising....\n"
     ]
    }
   ],
   "source": [
    "total_episodes = 1000 #Set total number of episodes to train agent on.\n",
    "total_reward = np.zeros(num_bandits) #Set scoreboard for bandits to 0.\n",
    "e = 0.5 #Set the chance of taking a random action.\n",
    "\n",
    "init = tf.initialize_all_variables()\n",
    "\n",
    "# Launch the tensorflow graph\n",
    "with tf.Session() as sess:\n",
    "    sess.run(init)\n",
    "    i = 0\n",
    "    while i < total_episodes:\n",
    "        \n",
    "        #Choose either a random action or one from our network.\n",
    "        if np.random.rand(1) < e:\n",
    "            action = np.random.randint(num_bandits)\n",
    "        else:\n",
    "            action = sess.run(chosen_action)\n",
    "        \n",
    "        reward = determine_winner(bandits[action]) #Get our reward from picking one of the bandits.\n",
    "        \n",
    "        #Update the network.\n",
    "        _,resp,ww = sess.run([update,responsible_weight,weights], feed_dict={reward_holder:[reward],action_holder:[action]})\n",
    "        \n",
    "        #Update our running tally of scores.\n",
    "        total_reward[action] += reward\n",
    "        if i % 50 == 0:\n",
    "            print(\"Running reward for the \" + str(num_bandits) + \" bandits: \" + str(total_reward))\n",
    "            \n",
    "        i+=1\n",
    "    tot = 0\n",
    "    for i in range(100):\n",
    "        action = sess.run(chosen_action)\n",
    "        reward = determine_winner(bandits[action])\n",
    "        tot += reward\n",
    "    print(tot)\n",
    "\n",
    "print(\"The agent thinks bandit \" + str(np.argmax(ww)+1) + \" is the most promising....\")\n",
    "# if np.argmax(ww) == np.argmax(-np.array(bandits)):\n",
    "#     print \"...and it was right!\"\n",
    "# else:\n",
    "#     print \"...and it was wrong!\""
   ]
  },
  {
   "cell_type": "code",
   "execution_count": null,
   "metadata": {},
   "outputs": [],
   "source": [
    "# Next: bandits are check or raise"
   ]
  }
 ],
 "metadata": {
  "kernelspec": {
   "display_name": "Python 3",
   "language": "python",
   "name": "python3"
  },
  "language_info": {
   "codemirror_mode": {
    "name": "ipython",
    "version": 3
   },
   "file_extension": ".py",
   "mimetype": "text/x-python",
   "name": "python",
   "nbconvert_exporter": "python",
   "pygments_lexer": "ipython3",
   "version": "3.7.6"
  }
 },
 "nbformat": 4,
 "nbformat_minor": 4
}
